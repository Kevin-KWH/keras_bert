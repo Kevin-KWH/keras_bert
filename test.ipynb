{
 "metadata": {
  "language_info": {
   "codemirror_mode": {
    "name": "ipython",
    "version": 3
   },
   "file_extension": ".py",
   "mimetype": "text/x-python",
   "name": "python",
   "nbconvert_exporter": "python",
   "pygments_lexer": "ipython3",
   "version": "3.6.12-final"
  },
  "orig_nbformat": 2,
  "kernelspec": {
   "name": "python3",
   "display_name": "Python 3.6.12 64-bit ('nlp': conda)",
   "metadata": {
    "interpreter": {
     "hash": "0a29506602fe943b4065b061b1ebe4ecc9ded19a9665272cc3461de2dd733ee7"
    }
   }
  }
 },
 "nbformat": 4,
 "nbformat_minor": 2,
 "cells": [
  {
   "cell_type": "code",
   "execution_count": 132,
   "metadata": {},
   "outputs": [],
   "source": [
    "import tensorflow as tf\n",
    "\n",
    "from model import BertConfig, EmbeddingLayer, AttentionLayer, Encoder, BertModel\n",
    "from model import mlm_loss, nsp_accuracy, mlm_accuracy"
   ]
  },
  {
   "cell_type": "code",
   "execution_count": 133,
   "metadata": {},
   "outputs": [
    {
     "output_type": "stream",
     "name": "stdout",
     "text": [
      "Model: \"bert_model\"\n__________________________________________________________________________________________________________________________________\nLayer (type)                                              Output Shape                                        Param #             \n==================================================================================================================================\nembedding_layer (EmbeddingLayer)                          multiple                                            104448              \n__________________________________________________________________________________________________________________________________\nencoder (Encoder)                                         multiple                                            198272              \n__________________________________________________________________________________________________________________________________\npooled_dense_layer (Dense)                                multiple                                            16512               \n__________________________________________________________________________________________________________________________________\nnsp_dense_layer (Dense)                                   multiple                                            258                 \n__________________________________________________________________________________________________________________________________\nnsp_softmax_layer (Softmax)                               multiple                                            0                   \n__________________________________________________________________________________________________________________________________\nmlm_dense_layer (Dense)                                   multiple                                            16512               \n__________________________________________________________________________________________________________________________________\nmlm_layerNorm_layer (LayerNormalization)                  multiple                                            256                 \n__________________________________________________________________________________________________________________________________\nmlm_softmax_layer (Softmax)                               multiple                                            0                   \n==================================================================================================================================\nTotal params: 336,558\nTrainable params: 336,558\nNon-trainable params: 0\n__________________________________________________________________________________________________________________________________\n"
     ]
    }
   ],
   "source": [
    "custom_objects = {\n",
    "    \"BertConfig\": BertConfig,\n",
    "    'EmbeddingLayer': EmbeddingLayer,\n",
    "    'AttentionLayer': AttentionLayer,\n",
    "    'Encoder': Encoder,\n",
    "    'BertModel': BertModel,\n",
    "    \"mlm_loss\": mlm_loss,\n",
    "    \"nsp_accuracy\": nsp_accuracy,\n",
    "    \"mlm_accuracy\": mlm_accuracy\n",
    "}\n",
    "\n",
    "model = tf.keras.models.load_model(\"saved_model/bert\", custom_objects=custom_objects)\n",
    "\n",
    "model.summary(line_length=130)"
   ]
  },
  {
   "cell_type": "code",
   "execution_count": 94,
   "metadata": {},
   "outputs": [],
   "source": [
    "(embedding_output, embedding_table)= model.get_layer(\"embedding_layer\")(inputs[0], inputs[1])"
   ]
  },
  {
   "cell_type": "code",
   "execution_count": 111,
   "metadata": {},
   "outputs": [
    {
     "output_type": "execute_result",
     "data": {
      "text/plain": [
       "<KerasTensor: shape=(None, 512, 128) dtype=float32 (created by layer 'encoder')>"
      ]
     },
     "metadata": {},
     "execution_count": 111
    }
   ],
   "source": [
    "model.encoder_layers[0](embedding_output, inputs[1])"
   ]
  },
  {
   "cell_type": "code",
   "execution_count": 138,
   "metadata": {},
   "outputs": [
    {
     "output_type": "execute_result",
     "data": {
      "text/plain": [
       "tensorflow.python.keras.engine.functional.Functional"
      ]
     },
     "metadata": {},
     "execution_count": 138
    }
   ],
   "source": [
    "type(model)"
   ]
  },
  {
   "cell_type": "code",
   "execution_count": 135,
   "metadata": {},
   "outputs": [
    {
     "output_type": "stream",
     "name": "stdout",
     "text": [
      "WARNING:tensorflow:`input_shape` is undefined or non-square, or `rows` is not in [128, 160, 192, 224]. Weights for input shape (224, 224) will be loaded as the default.\n",
      "Downloading data from https://storage.googleapis.com/tensorflow/keras-applications/mobilenet/mobilenet_1_0_224_tf_no_top.h5\n",
      "17227776/17225924 [==============================] - 1s 0us/step\n"
     ]
    }
   ],
   "source": [
    "model = tf.keras.applications.MobileNet(include_top=False, pooling='avg')"
   ]
  },
  {
   "cell_type": "code",
   "execution_count": 137,
   "metadata": {},
   "outputs": [
    {
     "output_type": "stream",
     "name": "stdout",
     "text": [
      "Model: \"mobilenet_1.00_224\"\n_________________________________________________________________\nLayer (type)                 Output Shape              Param #   \n=================================================================\ninput_13 (InputLayer)        [(None, None, None, 3)]   0         \n_________________________________________________________________\nconv1 (Conv2D)               (None, None, None, 32)    864       \n_________________________________________________________________\nconv1_bn (BatchNormalization (None, None, None, 32)    128       \n_________________________________________________________________\nconv1_relu (ReLU)            (None, None, None, 32)    0         \n_________________________________________________________________\nconv_dw_1 (DepthwiseConv2D)  (None, None, None, 32)    288       \n_________________________________________________________________\nconv_dw_1_bn (BatchNormaliza (None, None, None, 32)    128       \n_________________________________________________________________\nconv_dw_1_relu (ReLU)        (None, None, None, 32)    0         \n_________________________________________________________________\nconv_pw_1 (Conv2D)           (None, None, None, 64)    2048      \n_________________________________________________________________\nconv_pw_1_bn (BatchNormaliza (None, None, None, 64)    256       \n_________________________________________________________________\nconv_pw_1_relu (ReLU)        (None, None, None, 64)    0         \n_________________________________________________________________\nconv_pad_2 (ZeroPadding2D)   (None, None, None, 64)    0         \n_________________________________________________________________\nconv_dw_2 (DepthwiseConv2D)  (None, None, None, 64)    576       \n_________________________________________________________________\nconv_dw_2_bn (BatchNormaliza (None, None, None, 64)    256       \n_________________________________________________________________\nconv_dw_2_relu (ReLU)        (None, None, None, 64)    0         \n_________________________________________________________________\nconv_pw_2 (Conv2D)           (None, None, None, 128)   8192      \n_________________________________________________________________\nconv_pw_2_bn (BatchNormaliza (None, None, None, 128)   512       \n_________________________________________________________________\nconv_pw_2_relu (ReLU)        (None, None, None, 128)   0         \n_________________________________________________________________\nconv_dw_3 (DepthwiseConv2D)  (None, None, None, 128)   1152      \n_________________________________________________________________\nconv_dw_3_bn (BatchNormaliza (None, None, None, 128)   512       \n_________________________________________________________________\nconv_dw_3_relu (ReLU)        (None, None, None, 128)   0         \n_________________________________________________________________\nconv_pw_3 (Conv2D)           (None, None, None, 128)   16384     \n_________________________________________________________________\nconv_pw_3_bn (BatchNormaliza (None, None, None, 128)   512       \n_________________________________________________________________\nconv_pw_3_relu (ReLU)        (None, None, None, 128)   0         \n_________________________________________________________________\nconv_pad_4 (ZeroPadding2D)   (None, None, None, 128)   0         \n_________________________________________________________________\nconv_dw_4 (DepthwiseConv2D)  (None, None, None, 128)   1152      \n_________________________________________________________________\nconv_dw_4_bn (BatchNormaliza (None, None, None, 128)   512       \n_________________________________________________________________\nconv_dw_4_relu (ReLU)        (None, None, None, 128)   0         \n_________________________________________________________________\nconv_pw_4 (Conv2D)           (None, None, None, 256)   32768     \n_________________________________________________________________\nconv_pw_4_bn (BatchNormaliza (None, None, None, 256)   1024      \n_________________________________________________________________\nconv_pw_4_relu (ReLU)        (None, None, None, 256)   0         \n_________________________________________________________________\nconv_dw_5 (DepthwiseConv2D)  (None, None, None, 256)   2304      \n_________________________________________________________________\nconv_dw_5_bn (BatchNormaliza (None, None, None, 256)   1024      \n_________________________________________________________________\nconv_dw_5_relu (ReLU)        (None, None, None, 256)   0         \n_________________________________________________________________\nconv_pw_5 (Conv2D)           (None, None, None, 256)   65536     \n_________________________________________________________________\nconv_pw_5_bn (BatchNormaliza (None, None, None, 256)   1024      \n_________________________________________________________________\nconv_pw_5_relu (ReLU)        (None, None, None, 256)   0         \n_________________________________________________________________\nconv_pad_6 (ZeroPadding2D)   (None, None, None, 256)   0         \n_________________________________________________________________\nconv_dw_6 (DepthwiseConv2D)  (None, None, None, 256)   2304      \n_________________________________________________________________\nconv_dw_6_bn (BatchNormaliza (None, None, None, 256)   1024      \n_________________________________________________________________\nconv_dw_6_relu (ReLU)        (None, None, None, 256)   0         \n_________________________________________________________________\nconv_pw_6 (Conv2D)           (None, None, None, 512)   131072    \n_________________________________________________________________\nconv_pw_6_bn (BatchNormaliza (None, None, None, 512)   2048      \n_________________________________________________________________\nconv_pw_6_relu (ReLU)        (None, None, None, 512)   0         \n_________________________________________________________________\nconv_dw_7 (DepthwiseConv2D)  (None, None, None, 512)   4608      \n_________________________________________________________________\nconv_dw_7_bn (BatchNormaliza (None, None, None, 512)   2048      \n_________________________________________________________________\nconv_dw_7_relu (ReLU)        (None, None, None, 512)   0         \n_________________________________________________________________\nconv_pw_7 (Conv2D)           (None, None, None, 512)   262144    \n_________________________________________________________________\nconv_pw_7_bn (BatchNormaliza (None, None, None, 512)   2048      \n_________________________________________________________________\nconv_pw_7_relu (ReLU)        (None, None, None, 512)   0         \n_________________________________________________________________\nconv_dw_8 (DepthwiseConv2D)  (None, None, None, 512)   4608      \n_________________________________________________________________\nconv_dw_8_bn (BatchNormaliza (None, None, None, 512)   2048      \n_________________________________________________________________\nconv_dw_8_relu (ReLU)        (None, None, None, 512)   0         \n_________________________________________________________________\nconv_pw_8 (Conv2D)           (None, None, None, 512)   262144    \n_________________________________________________________________\nconv_pw_8_bn (BatchNormaliza (None, None, None, 512)   2048      \n_________________________________________________________________\nconv_pw_8_relu (ReLU)        (None, None, None, 512)   0         \n_________________________________________________________________\nconv_dw_9 (DepthwiseConv2D)  (None, None, None, 512)   4608      \n_________________________________________________________________\nconv_dw_9_bn (BatchNormaliza (None, None, None, 512)   2048      \n_________________________________________________________________\nconv_dw_9_relu (ReLU)        (None, None, None, 512)   0         \n_________________________________________________________________\nconv_pw_9 (Conv2D)           (None, None, None, 512)   262144    \n_________________________________________________________________\nconv_pw_9_bn (BatchNormaliza (None, None, None, 512)   2048      \n_________________________________________________________________\nconv_pw_9_relu (ReLU)        (None, None, None, 512)   0         \n_________________________________________________________________\nconv_dw_10 (DepthwiseConv2D) (None, None, None, 512)   4608      \n_________________________________________________________________\nconv_dw_10_bn (BatchNormaliz (None, None, None, 512)   2048      \n_________________________________________________________________\nconv_dw_10_relu (ReLU)       (None, None, None, 512)   0         \n_________________________________________________________________\nconv_pw_10 (Conv2D)          (None, None, None, 512)   262144    \n_________________________________________________________________\nconv_pw_10_bn (BatchNormaliz (None, None, None, 512)   2048      \n_________________________________________________________________\nconv_pw_10_relu (ReLU)       (None, None, None, 512)   0         \n_________________________________________________________________\nconv_dw_11 (DepthwiseConv2D) (None, None, None, 512)   4608      \n_________________________________________________________________\nconv_dw_11_bn (BatchNormaliz (None, None, None, 512)   2048      \n_________________________________________________________________\nconv_dw_11_relu (ReLU)       (None, None, None, 512)   0         \n_________________________________________________________________\nconv_pw_11 (Conv2D)          (None, None, None, 512)   262144    \n_________________________________________________________________\nconv_pw_11_bn (BatchNormaliz (None, None, None, 512)   2048      \n_________________________________________________________________\nconv_pw_11_relu (ReLU)       (None, None, None, 512)   0         \n_________________________________________________________________\nconv_pad_12 (ZeroPadding2D)  (None, None, None, 512)   0         \n_________________________________________________________________\nconv_dw_12 (DepthwiseConv2D) (None, None, None, 512)   4608      \n_________________________________________________________________\nconv_dw_12_bn (BatchNormaliz (None, None, None, 512)   2048      \n_________________________________________________________________\nconv_dw_12_relu (ReLU)       (None, None, None, 512)   0         \n_________________________________________________________________\nconv_pw_12 (Conv2D)          (None, None, None, 1024)  524288    \n_________________________________________________________________\nconv_pw_12_bn (BatchNormaliz (None, None, None, 1024)  4096      \n_________________________________________________________________\nconv_pw_12_relu (ReLU)       (None, None, None, 1024)  0         \n_________________________________________________________________\nconv_dw_13 (DepthwiseConv2D) (None, None, None, 1024)  9216      \n_________________________________________________________________\nconv_dw_13_bn (BatchNormaliz (None, None, None, 1024)  4096      \n_________________________________________________________________\nconv_dw_13_relu (ReLU)       (None, None, None, 1024)  0         \n_________________________________________________________________\nconv_pw_13 (Conv2D)          (None, None, None, 1024)  1048576   \n_________________________________________________________________\nconv_pw_13_bn (BatchNormaliz (None, None, None, 1024)  4096      \n_________________________________________________________________\nconv_pw_13_relu (ReLU)       (None, None, None, 1024)  0         \n_________________________________________________________________\nglobal_average_pooling2d (Gl (None, 1024)              0         \n=================================================================\nTotal params: 3,228,864\nTrainable params: 3,206,976\nNon-trainable params: 21,888\n_________________________________________________________________\n"
     ]
    }
   ],
   "source": [
    "model.summary()"
   ]
  },
  {
   "cell_type": "code",
   "execution_count": 15,
   "metadata": {},
   "outputs": [
    {
     "output_type": "execute_result",
     "data": {
      "text/plain": [
       "[<model.EmbeddingLayer at 0x7fd519ae9518>,\n",
       " <model.Encoder at 0x7fd561985438>,\n",
       " <tensorflow.python.keras.layers.core.Dense at 0x7fd519adf668>,\n",
       " <tensorflow.python.keras.layers.core.Dense at 0x7fd519adff60>,\n",
       " <tensorflow.python.keras.layers.advanced_activations.Softmax at 0x7fd551147588>,\n",
       " <tensorflow.python.keras.layers.core.Dense at 0x7fd551147b00>,\n",
       " <tensorflow.python.keras.layers.normalization.LayerNormalization at 0x7fd551141208>,\n",
       " <tensorflow.python.keras.layers.advanced_activations.Softmax at 0x7fd5511417f0>]"
      ]
     },
     "metadata": {},
     "execution_count": 15
    }
   ],
   "source": [
    "layers = model.layers\n",
    "layers"
   ]
  },
  {
   "cell_type": "code",
   "execution_count": 130,
   "metadata": {},
   "outputs": [
    {
     "output_type": "execute_result",
     "data": {
      "text/plain": [
       "['_TF_MODULE_IGNORED_PROPERTIES',\n",
       " '__call__',\n",
       " '__class__',\n",
       " '__delattr__',\n",
       " '__dict__',\n",
       " '__dir__',\n",
       " '__doc__',\n",
       " '__eq__',\n",
       " '__format__',\n",
       " '__ge__',\n",
       " '__getattribute__',\n",
       " '__getstate__',\n",
       " '__gt__',\n",
       " '__hash__',\n",
       " '__init__',\n",
       " '__init_subclass__',\n",
       " '__le__',\n",
       " '__lt__',\n",
       " '__module__',\n",
       " '__ne__',\n",
       " '__new__',\n",
       " '__reduce__',\n",
       " '__reduce_ex__',\n",
       " '__repr__',\n",
       " '__setattr__',\n",
       " '__setstate__',\n",
       " '__sizeof__',\n",
       " '__str__',\n",
       " '__subclasshook__',\n",
       " '__weakref__',\n",
       " '_activity_regularizer',\n",
       " '_add_trackable',\n",
       " '_add_variable_with_custom_getter',\n",
       " '_assert_compile_was_called',\n",
       " '_assert_weights_created',\n",
       " '_auto_track_sub_layers',\n",
       " '_autocast',\n",
       " '_autographed_call',\n",
       " '_base_model_initialized',\n",
       " '_build_input_shape',\n",
       " '_call_accepts_kwargs',\n",
       " '_call_arg_was_passed',\n",
       " '_call_fn_arg_defaults',\n",
       " '_call_fn_arg_positions',\n",
       " '_call_fn_args',\n",
       " '_call_full_argspec',\n",
       " '_callable_losses',\n",
       " '_cast_single_input',\n",
       " '_check_call_args',\n",
       " '_checkpoint_dependencies',\n",
       " '_clear_losses',\n",
       " '_compile_was_called',\n",
       " '_compiled_trainable_state',\n",
       " '_compute_dtype',\n",
       " '_compute_dtype_object',\n",
       " '_compute_output_and_mask_jointly',\n",
       " '_configure_steps_per_execution',\n",
       " '_dedup_weights',\n",
       " '_default_training_arg',\n",
       " '_deferred_dependencies',\n",
       " '_distribution_strategy',\n",
       " '_dtype',\n",
       " '_dtype_policy',\n",
       " '_dynamic',\n",
       " '_eager_losses',\n",
       " '_expects_mask_arg',\n",
       " '_expects_training_arg',\n",
       " '_flatten',\n",
       " '_flatten_layers',\n",
       " '_functional_construction_call',\n",
       " '_gather_children_attribute',\n",
       " '_gather_saveables_for_checkpoint',\n",
       " '_get_call_arg_value',\n",
       " '_get_callback_model',\n",
       " '_get_compile_args',\n",
       " '_get_distribution_strategy',\n",
       " '_get_existing_metric',\n",
       " '_get_input_masks',\n",
       " '_get_node_attribute_at_index',\n",
       " '_get_optimizer',\n",
       " '_get_save_spec',\n",
       " '_get_trainable_state',\n",
       " '_handle_activity_regularization',\n",
       " '_handle_deferred_dependencies',\n",
       " '_handle_weight_regularization',\n",
       " '_in_multi_worker_mode',\n",
       " '_inbound_nodes',\n",
       " '_inbound_nodes_value',\n",
       " '_infer_output_signature',\n",
       " '_init_batch_counters',\n",
       " '_init_call_fn_args',\n",
       " '_init_from_metadata',\n",
       " '_init_set_name',\n",
       " '_initial_weights',\n",
       " '_input_spec',\n",
       " '_instrument_layer_creation',\n",
       " '_instrumented_keras_api',\n",
       " '_instrumented_keras_layer_class',\n",
       " '_instrumented_keras_model_class',\n",
       " '_is_compiled',\n",
       " '_is_graph_network',\n",
       " '_is_layer',\n",
       " '_is_model_for_instrumentation',\n",
       " '_keras_api_names',\n",
       " '_keras_api_names_v1',\n",
       " '_keras_tensor_symbolic_call',\n",
       " '_layers',\n",
       " '_list_extra_dependencies_for_serialization',\n",
       " '_list_functions_for_serialization',\n",
       " '_lookup_dependency',\n",
       " '_losses',\n",
       " '_map_resources',\n",
       " '_maybe_build',\n",
       " '_maybe_cast_inputs',\n",
       " '_maybe_create_attribute',\n",
       " '_maybe_initialize_trackable',\n",
       " '_maybe_load_initial_epoch_from_ckpt',\n",
       " '_metrics',\n",
       " '_metrics_lock',\n",
       " '_must_restore_from_config',\n",
       " '_name',\n",
       " '_name_based_attribute_restore',\n",
       " '_name_based_restores',\n",
       " '_name_scope',\n",
       " '_no_dependency',\n",
       " '_non_trainable_weights',\n",
       " '_obj_reference_counts',\n",
       " '_obj_reference_counts_dict',\n",
       " '_object_identifier',\n",
       " '_outbound_nodes',\n",
       " '_outbound_nodes_value',\n",
       " '_predict_counter',\n",
       " '_preload_simple_restoration',\n",
       " '_preserve_input_structure_in_config',\n",
       " '_reset_compile_cache',\n",
       " '_restore_from_checkpoint_position',\n",
       " '_run_eagerly',\n",
       " '_saved_model_inputs_spec',\n",
       " '_self_name_based_restores',\n",
       " '_self_saveable_object_factories',\n",
       " '_self_setattr_tracking',\n",
       " '_self_unconditional_checkpoint_dependencies',\n",
       " '_self_unconditional_deferred_dependencies',\n",
       " '_self_unconditional_dependency_names',\n",
       " '_self_update_uid',\n",
       " '_serialized_attributes',\n",
       " '_set_call_arg_value',\n",
       " '_set_connectivity_metadata',\n",
       " '_set_dtype_policy',\n",
       " '_set_inputs',\n",
       " '_set_mask_keras_history_checked',\n",
       " '_set_mask_metadata',\n",
       " '_set_save_spec',\n",
       " '_set_trainable_state',\n",
       " '_set_training_mode',\n",
       " '_setattr_tracking',\n",
       " '_should_cast_single_input',\n",
       " '_should_compute_mask',\n",
       " '_should_eval',\n",
       " '_single_restoration_from_checkpoint_position',\n",
       " '_split_out_first_arg',\n",
       " '_stateful',\n",
       " '_steps_per_execution',\n",
       " '_supports_masking',\n",
       " '_symbolic_call',\n",
       " '_test_counter',\n",
       " '_tf_api_names',\n",
       " '_tf_api_names_v1',\n",
       " '_thread_local',\n",
       " '_track_trackable',\n",
       " '_trackable_saved_model_saver',\n",
       " '_trackable_saver',\n",
       " '_tracking_metadata',\n",
       " '_train_counter',\n",
       " '_trainable',\n",
       " '_trainable_weights',\n",
       " '_training_state',\n",
       " '_unconditional_checkpoint_dependencies',\n",
       " '_unconditional_dependency_names',\n",
       " '_undeduplicated_weights',\n",
       " '_update_uid',\n",
       " '_updated_config',\n",
       " '_updates',\n",
       " '_validate_compile',\n",
       " 'activity_regularizer',\n",
       " 'add_loss',\n",
       " 'add_metric',\n",
       " 'add_update',\n",
       " 'add_variable',\n",
       " 'add_weight',\n",
       " 'all_encoder_outputs',\n",
       " 'apply',\n",
       " 'build',\n",
       " 'built',\n",
       " 'call',\n",
       " 'compile',\n",
       " 'compiled_loss',\n",
       " 'compiled_metrics',\n",
       " 'compute_dtype',\n",
       " 'compute_mask',\n",
       " 'compute_output_shape',\n",
       " 'compute_output_signature',\n",
       " 'count_params',\n",
       " 'distribute_strategy',\n",
       " 'dtype',\n",
       " 'dtype_policy',\n",
       " 'dynamic',\n",
       " 'embedding_layer',\n",
       " 'embedding_table',\n",
       " 'encoder_layers',\n",
       " 'evaluate',\n",
       " 'evaluate_generator',\n",
       " 'fit',\n",
       " 'fit_generator',\n",
       " 'from_config',\n",
       " 'get_config',\n",
       " 'get_input_at',\n",
       " 'get_input_mask_at',\n",
       " 'get_input_shape_at',\n",
       " 'get_layer',\n",
       " 'get_losses_for',\n",
       " 'get_output_at',\n",
       " 'get_output_mask_at',\n",
       " 'get_output_shape_at',\n",
       " 'get_updates_for',\n",
       " 'get_weights',\n",
       " 'graph_debug_info',\n",
       " 'history',\n",
       " 'inbound_nodes',\n",
       " 'input',\n",
       " 'input_mask',\n",
       " 'input_names',\n",
       " 'input_shape',\n",
       " 'input_spec',\n",
       " 'inputs',\n",
       " 'keras_api',\n",
       " 'layers',\n",
       " 'load_weights',\n",
       " 'loss',\n",
       " 'losses',\n",
       " 'make_predict_function',\n",
       " 'make_test_function',\n",
       " 'make_train_function',\n",
       " 'metrics',\n",
       " 'metrics_names',\n",
       " 'mlm_bias',\n",
       " 'mlm_dense_layer',\n",
       " 'mlm_layerNorm_layer',\n",
       " 'mlm_softmax_layer',\n",
       " 'name',\n",
       " 'name_scope',\n",
       " 'non_trainable_variables',\n",
       " 'non_trainable_weights',\n",
       " 'nsp_dense_layer',\n",
       " 'nsp_softmax_layer',\n",
       " 'optimizer',\n",
       " 'outbound_nodes',\n",
       " 'output',\n",
       " 'output_mask',\n",
       " 'output_names',\n",
       " 'output_shape',\n",
       " 'outputs',\n",
       " 'pooled_dense_layer',\n",
       " 'predict',\n",
       " 'predict_function',\n",
       " 'predict_generator',\n",
       " 'predict_on_batch',\n",
       " 'predict_step',\n",
       " 'reset_metrics',\n",
       " 'reset_states',\n",
       " 'run_eagerly',\n",
       " 'save',\n",
       " 'save_weights',\n",
       " 'set_weights',\n",
       " 'signatures',\n",
       " 'state_updates',\n",
       " 'stateful',\n",
       " 'stop_training',\n",
       " 'submodules',\n",
       " 'summary',\n",
       " 'supports_masking',\n",
       " 'tensorflow_git_version',\n",
       " 'tensorflow_version',\n",
       " 'test_function',\n",
       " 'test_on_batch',\n",
       " 'test_step',\n",
       " 'to_json',\n",
       " 'to_yaml',\n",
       " 'train_function',\n",
       " 'train_on_batch',\n",
       " 'train_step',\n",
       " 'trainable',\n",
       " 'trainable_variables',\n",
       " 'trainable_weights',\n",
       " 'updates',\n",
       " 'variable_dtype',\n",
       " 'variables',\n",
       " 'weights',\n",
       " 'with_name_scope']"
      ]
     },
     "metadata": {},
     "execution_count": 130
    }
   ],
   "source": [
    "dir(model)"
   ]
  },
  {
   "cell_type": "code",
   "execution_count": 86,
   "metadata": {},
   "outputs": [
    {
     "output_type": "execute_result",
     "data": {
      "text/plain": [
       "(<KerasTensor: shape=(None, 2) dtype=float32 (created by layer 'bert_model')>,\n",
       " <KerasTensor: shape=(None, 2, 300) dtype=float32 (created by layer 'bert_model')>)"
      ]
     },
     "metadata": {},
     "execution_count": 86
    }
   ],
   "source": [
    "input_ids = tf.keras.Input(shape=(512,), dtype=tf.int32)\n",
    "input_mask = tf.keras.Input(shape=(512,), dtype=tf.int32)\n",
    "token_type_ids = tf.keras.Input(shape=(512,), dtype=tf.int32)\n",
    "# masked_lm_positions = [batch_size, MAX_PREDICTIONS_PER_SEQ]\n",
    "masked_lm_positions = tf.keras.Input(shape=(2,), dtype=tf.int32)\n",
    "\n",
    "inputs = (input_ids, input_mask, token_type_ids, masked_lm_positions)\n",
    "model(inputs)"
   ]
  },
  {
   "cell_type": "code",
   "execution_count": 66,
   "metadata": {},
   "outputs": [
    {
     "output_type": "error",
     "ename": "AttributeError",
     "evalue": "Layer encoder has no inbound nodes.",
     "traceback": [
      "\u001b[0;31m---------------------------------------------------------------------------\u001b[0m",
      "\u001b[0;31mAttributeError\u001b[0m                            Traceback (most recent call last)",
      "\u001b[0;32m<ipython-input-66-f4ebcc253306>\u001b[0m in \u001b[0;36m<module>\u001b[0;34m\u001b[0m\n\u001b[0;32m----> 1\u001b[0;31m \u001b[0mencoder_output\u001b[0m \u001b[0;34m=\u001b[0m \u001b[0mtf\u001b[0m\u001b[0;34m.\u001b[0m\u001b[0mkeras\u001b[0m\u001b[0;34m.\u001b[0m\u001b[0mbackend\u001b[0m\u001b[0;34m.\u001b[0m\u001b[0mfunction\u001b[0m\u001b[0;34m(\u001b[0m\u001b[0;34m[\u001b[0m\u001b[0minputs\u001b[0m\u001b[0;34m,\u001b[0m \u001b[0mtf\u001b[0m\u001b[0;34m.\u001b[0m\u001b[0mkeras\u001b[0m\u001b[0;34m.\u001b[0m\u001b[0mbackend\u001b[0m\u001b[0;34m.\u001b[0m\u001b[0mlearning_phase\u001b[0m\u001b[0;34m(\u001b[0m\u001b[0;34m)\u001b[0m\u001b[0;34m]\u001b[0m\u001b[0;34m,\u001b[0m \u001b[0;34m[\u001b[0m\u001b[0mmodel\u001b[0m\u001b[0;34m.\u001b[0m\u001b[0mencoder_layers\u001b[0m\u001b[0;34m[\u001b[0m\u001b[0;34m-\u001b[0m\u001b[0;36m1\u001b[0m\u001b[0;34m]\u001b[0m\u001b[0;34m.\u001b[0m\u001b[0moutput\u001b[0m\u001b[0;34m]\u001b[0m\u001b[0;34m)\u001b[0m\u001b[0;34m\u001b[0m\u001b[0;34m\u001b[0m\u001b[0m\n\u001b[0m",
      "\u001b[0;32m~/miniconda3/envs/nlp/lib/python3.6/site-packages/tensorflow/python/keras/engine/base_layer.py\u001b[0m in \u001b[0;36moutput\u001b[0;34m(self)\u001b[0m\n\u001b[1;32m   2152\u001b[0m     \"\"\"\n\u001b[1;32m   2153\u001b[0m     \u001b[0;32mif\u001b[0m \u001b[0;32mnot\u001b[0m \u001b[0mself\u001b[0m\u001b[0;34m.\u001b[0m\u001b[0m_inbound_nodes\u001b[0m\u001b[0;34m:\u001b[0m\u001b[0;34m\u001b[0m\u001b[0;34m\u001b[0m\u001b[0m\n\u001b[0;32m-> 2154\u001b[0;31m       \u001b[0;32mraise\u001b[0m \u001b[0mAttributeError\u001b[0m\u001b[0;34m(\u001b[0m\u001b[0;34m'Layer '\u001b[0m \u001b[0;34m+\u001b[0m \u001b[0mself\u001b[0m\u001b[0;34m.\u001b[0m\u001b[0mname\u001b[0m \u001b[0;34m+\u001b[0m \u001b[0;34m' has no inbound nodes.'\u001b[0m\u001b[0;34m)\u001b[0m\u001b[0;34m\u001b[0m\u001b[0;34m\u001b[0m\u001b[0m\n\u001b[0m\u001b[1;32m   2155\u001b[0m     \u001b[0;32mreturn\u001b[0m \u001b[0mself\u001b[0m\u001b[0;34m.\u001b[0m\u001b[0m_get_node_attribute_at_index\u001b[0m\u001b[0;34m(\u001b[0m\u001b[0;36m0\u001b[0m\u001b[0;34m,\u001b[0m \u001b[0;34m'output_tensors'\u001b[0m\u001b[0;34m,\u001b[0m \u001b[0;34m'output'\u001b[0m\u001b[0;34m)\u001b[0m\u001b[0;34m\u001b[0m\u001b[0;34m\u001b[0m\u001b[0m\n\u001b[1;32m   2156\u001b[0m \u001b[0;34m\u001b[0m\u001b[0m\n",
      "\u001b[0;31mAttributeError\u001b[0m: Layer encoder has no inbound nodes."
     ]
    }
   ],
   "source": [
    "encoder_output = tf.keras.backend.function([inputs, tf.keras.backend.learning_phase()], [model.encoder_layers[-1].output])"
   ]
  },
  {
   "cell_type": "code",
   "execution_count": 74,
   "metadata": {},
   "outputs": [
    {
     "output_type": "execute_result",
     "data": {
      "text/plain": [
       "(<KerasTensor: shape=(None, 2) dtype=float32 (created by layer 'bert_model')>,\n",
       " <KerasTensor: shape=(None, 2, 300) dtype=float32 (created by layer 'bert_model')>)"
      ]
     },
     "metadata": {},
     "execution_count": 74
    }
   ],
   "source": [
    "model.get_output_at(0)"
   ]
  },
  {
   "cell_type": "code",
   "execution_count": 77,
   "metadata": {},
   "outputs": [
    {
     "output_type": "error",
     "ename": "TypeError",
     "evalue": "'Encoder' object does not support indexing",
     "traceback": [
      "\u001b[0;31m---------------------------------------------------------------------------\u001b[0m",
      "\u001b[0;31mTypeError\u001b[0m                                 Traceback (most recent call last)",
      "\u001b[0;32m<ipython-input-77-4cd41b153111>\u001b[0m in \u001b[0;36m<module>\u001b[0;34m\u001b[0m\n\u001b[0;32m----> 1\u001b[0;31m \u001b[0mmodel\u001b[0m\u001b[0;34m.\u001b[0m\u001b[0mlayers\u001b[0m\u001b[0;34m[\u001b[0m\u001b[0;36m1\u001b[0m\u001b[0;34m]\u001b[0m\u001b[0;34m[\u001b[0m\u001b[0;34m-\u001b[0m\u001b[0;36m1\u001b[0m\u001b[0;34m]\u001b[0m\u001b[0;34m\u001b[0m\u001b[0;34m\u001b[0m\u001b[0m\n\u001b[0m",
      "\u001b[0;31mTypeError\u001b[0m: 'Encoder' object does not support indexing"
     ]
    }
   ],
   "source": [
    "model.layers[1][-1]"
   ]
  },
  {
   "cell_type": "code",
   "execution_count": 84,
   "metadata": {},
   "outputs": [
    {
     "output_type": "error",
     "ename": "AttributeError",
     "evalue": "Layer encoder has no inbound nodes.",
     "traceback": [
      "\u001b[0;31m---------------------------------------------------------------------------\u001b[0m",
      "\u001b[0;31mAttributeError\u001b[0m                            Traceback (most recent call last)",
      "\u001b[0;32m<ipython-input-84-7d0cba7e335b>\u001b[0m in \u001b[0;36m<module>\u001b[0;34m\u001b[0m\n\u001b[0;32m----> 1\u001b[0;31m \u001b[0minter_model\u001b[0m \u001b[0;34m=\u001b[0m \u001b[0mtf\u001b[0m\u001b[0;34m.\u001b[0m\u001b[0mkeras\u001b[0m\u001b[0;34m.\u001b[0m\u001b[0mModel\u001b[0m\u001b[0;34m(\u001b[0m\u001b[0minput\u001b[0m\u001b[0;34m=\u001b[0m\u001b[0mmodel\u001b[0m\u001b[0;34m.\u001b[0m\u001b[0minput\u001b[0m\u001b[0;34m,\u001b[0m \u001b[0moutput\u001b[0m\u001b[0;34m=\u001b[0m\u001b[0mmodel\u001b[0m\u001b[0;34m.\u001b[0m\u001b[0mencoder_layers\u001b[0m\u001b[0;34m[\u001b[0m\u001b[0;34m-\u001b[0m\u001b[0;36m1\u001b[0m\u001b[0;34m]\u001b[0m\u001b[0;34m.\u001b[0m\u001b[0moutput\u001b[0m\u001b[0;34m)\u001b[0m\u001b[0;34m\u001b[0m\u001b[0;34m\u001b[0m\u001b[0m\n\u001b[0m",
      "\u001b[0;32m~/miniconda3/envs/nlp/lib/python3.6/site-packages/tensorflow/python/keras/engine/base_layer.py\u001b[0m in \u001b[0;36moutput\u001b[0;34m(self)\u001b[0m\n\u001b[1;32m   2152\u001b[0m     \"\"\"\n\u001b[1;32m   2153\u001b[0m     \u001b[0;32mif\u001b[0m \u001b[0;32mnot\u001b[0m \u001b[0mself\u001b[0m\u001b[0;34m.\u001b[0m\u001b[0m_inbound_nodes\u001b[0m\u001b[0;34m:\u001b[0m\u001b[0;34m\u001b[0m\u001b[0;34m\u001b[0m\u001b[0m\n\u001b[0;32m-> 2154\u001b[0;31m       \u001b[0;32mraise\u001b[0m \u001b[0mAttributeError\u001b[0m\u001b[0;34m(\u001b[0m\u001b[0;34m'Layer '\u001b[0m \u001b[0;34m+\u001b[0m \u001b[0mself\u001b[0m\u001b[0;34m.\u001b[0m\u001b[0mname\u001b[0m \u001b[0;34m+\u001b[0m \u001b[0;34m' has no inbound nodes.'\u001b[0m\u001b[0;34m)\u001b[0m\u001b[0;34m\u001b[0m\u001b[0;34m\u001b[0m\u001b[0m\n\u001b[0m\u001b[1;32m   2155\u001b[0m     \u001b[0;32mreturn\u001b[0m \u001b[0mself\u001b[0m\u001b[0;34m.\u001b[0m\u001b[0m_get_node_attribute_at_index\u001b[0m\u001b[0;34m(\u001b[0m\u001b[0;36m0\u001b[0m\u001b[0;34m,\u001b[0m \u001b[0;34m'output_tensors'\u001b[0m\u001b[0;34m,\u001b[0m \u001b[0;34m'output'\u001b[0m\u001b[0;34m)\u001b[0m\u001b[0;34m\u001b[0m\u001b[0;34m\u001b[0m\u001b[0m\n\u001b[1;32m   2156\u001b[0m \u001b[0;34m\u001b[0m\u001b[0m\n",
      "\u001b[0;31mAttributeError\u001b[0m: Layer encoder has no inbound nodes."
     ]
    }
   ],
   "source": [
    "inter_model = tf.keras.Model(input=model.input, output=model.encoder_layers[-1].output)"
   ]
  },
  {
   "cell_type": "code",
   "execution_count": 87,
   "metadata": {},
   "outputs": [
    {
     "output_type": "error",
     "ename": "AttributeError",
     "evalue": "Layer embedding_layer is not connected, no input to return.",
     "traceback": [
      "\u001b[0;31m---------------------------------------------------------------------------\u001b[0m",
      "\u001b[0;31mAttributeError\u001b[0m                            Traceback (most recent call last)",
      "\u001b[0;32m<ipython-input-87-546ceefc8259>\u001b[0m in \u001b[0;36m<module>\u001b[0;34m\u001b[0m\n\u001b[0;32m----> 1\u001b[0;31m \u001b[0minter_output\u001b[0m \u001b[0;34m=\u001b[0m \u001b[0mtf\u001b[0m\u001b[0;34m.\u001b[0m\u001b[0mkeras\u001b[0m\u001b[0;34m.\u001b[0m\u001b[0mbackend\u001b[0m\u001b[0;34m.\u001b[0m\u001b[0mfunction\u001b[0m\u001b[0;34m(\u001b[0m\u001b[0;34m[\u001b[0m\u001b[0mmodel\u001b[0m\u001b[0;34m.\u001b[0m\u001b[0mlayers\u001b[0m\u001b[0;34m[\u001b[0m\u001b[0;36m0\u001b[0m\u001b[0;34m]\u001b[0m\u001b[0;34m.\u001b[0m\u001b[0minput\u001b[0m\u001b[0;34m,\u001b[0m \u001b[0mtf\u001b[0m\u001b[0;34m.\u001b[0m\u001b[0mkeras\u001b[0m\u001b[0;34m.\u001b[0m\u001b[0mbackend\u001b[0m\u001b[0;34m.\u001b[0m\u001b[0mlearning_phase\u001b[0m\u001b[0;34m(\u001b[0m\u001b[0;34m)\u001b[0m\u001b[0;34m]\u001b[0m\u001b[0;34m,\u001b[0m \u001b[0;34m[\u001b[0m\u001b[0mmodel\u001b[0m\u001b[0;34m.\u001b[0m\u001b[0mencoder_layers\u001b[0m\u001b[0;34m[\u001b[0m\u001b[0;34m-\u001b[0m\u001b[0;36m1\u001b[0m\u001b[0;34m]\u001b[0m\u001b[0;34m.\u001b[0m\u001b[0moutput\u001b[0m\u001b[0;34m]\u001b[0m\u001b[0;34m)\u001b[0m\u001b[0;34m\u001b[0m\u001b[0;34m\u001b[0m\u001b[0m\n\u001b[0m",
      "\u001b[0;32m~/miniconda3/envs/nlp/lib/python3.6/site-packages/tensorflow/python/keras/engine/base_layer.py\u001b[0m in \u001b[0;36minput\u001b[0;34m(self)\u001b[0m\n\u001b[1;32m   2133\u001b[0m     \u001b[0;32mif\u001b[0m \u001b[0;32mnot\u001b[0m \u001b[0mself\u001b[0m\u001b[0;34m.\u001b[0m\u001b[0m_inbound_nodes\u001b[0m\u001b[0;34m:\u001b[0m\u001b[0;34m\u001b[0m\u001b[0;34m\u001b[0m\u001b[0m\n\u001b[1;32m   2134\u001b[0m       raise AttributeError('Layer ' + self.name +\n\u001b[0;32m-> 2135\u001b[0;31m                            ' is not connected, no input to return.')\n\u001b[0m\u001b[1;32m   2136\u001b[0m     \u001b[0;32mreturn\u001b[0m \u001b[0mself\u001b[0m\u001b[0;34m.\u001b[0m\u001b[0m_get_node_attribute_at_index\u001b[0m\u001b[0;34m(\u001b[0m\u001b[0;36m0\u001b[0m\u001b[0;34m,\u001b[0m \u001b[0;34m'input_tensors'\u001b[0m\u001b[0;34m,\u001b[0m \u001b[0;34m'input'\u001b[0m\u001b[0;34m)\u001b[0m\u001b[0;34m\u001b[0m\u001b[0;34m\u001b[0m\u001b[0m\n\u001b[1;32m   2137\u001b[0m \u001b[0;34m\u001b[0m\u001b[0m\n",
      "\u001b[0;31mAttributeError\u001b[0m: Layer embedding_layer is not connected, no input to return."
     ]
    }
   ],
   "source": [
    "inter_output = tf.keras.backend.function([model.layers[0].input, tf.keras.backend.learning_phase()], [model.encoder_layers[-1].output])"
   ]
  },
  {
   "cell_type": "code",
   "execution_count": null,
   "metadata": {},
   "outputs": [],
   "source": [
    "model.en"
   ]
  }
 ]
}